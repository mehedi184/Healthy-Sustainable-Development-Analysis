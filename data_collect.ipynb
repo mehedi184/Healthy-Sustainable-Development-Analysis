{
 "cells": [
  {
   "cell_type": "markdown",
   "id": "cf1648fd",
   "metadata": {},
   "source": [
    "Workflow\n",
    "Steps-\n",
    "1. Import pandas , request and pycountry libraries\n",
    "    - pandas to create dataframes \n",
    "    - requests to work with APIs\n",
    "    - pycountry to work with geographical data\n",
    "2. WebScrap data of under 5 mordlity rate \n",
    "3. Call an api to get data on growth of the countries \n",
    "4. Clean Country Codes with a function that return \n",
    "5. Save CSV for SQL"
   ]
  },
  {
   "cell_type": "markdown",
   "id": "96bc05ca",
   "metadata": {},
   "source": [
    "Import Libraries"
   ]
  },
  {
   "cell_type": "code",
   "execution_count": 1,
   "id": "ff62c634",
   "metadata": {},
   "outputs": [],
   "source": [
    "import pandas as pd \n",
    "import requests\n",
    "import pycountry"
   ]
  },
  {
   "cell_type": "markdown",
   "id": "d6f34f0b",
   "metadata": {},
   "source": [
    "Under-5 Mortality"
   ]
  },
  {
   "cell_type": "code",
   "execution_count": 4,
   "id": "61037577",
   "metadata": {},
   "outputs": [
    {
     "data": {
      "text/html": [
       "<div>\n",
       "<style scoped>\n",
       "    .dataframe tbody tr th:only-of-type {\n",
       "        vertical-align: middle;\n",
       "    }\n",
       "\n",
       "    .dataframe tbody tr th {\n",
       "        vertical-align: top;\n",
       "    }\n",
       "\n",
       "    .dataframe thead th {\n",
       "        text-align: right;\n",
       "    }\n",
       "</style>\n",
       "<table border=\"1\" class=\"dataframe\">\n",
       "  <thead>\n",
       "    <tr style=\"text-align: right;\">\n",
       "      <th></th>\n",
       "      <th>Location</th>\n",
       "      <th>2020 rate</th>\n",
       "    </tr>\n",
       "  </thead>\n",
       "  <tbody>\n",
       "    <tr>\n",
       "      <th>0</th>\n",
       "      <td>Afghanistan *</td>\n",
       "      <td>58.0</td>\n",
       "    </tr>\n",
       "    <tr>\n",
       "      <th>1</th>\n",
       "      <td>Albania *</td>\n",
       "      <td>9.8</td>\n",
       "    </tr>\n",
       "    <tr>\n",
       "      <th>2</th>\n",
       "      <td>Algeria *</td>\n",
       "      <td>23.7</td>\n",
       "    </tr>\n",
       "    <tr>\n",
       "      <th>3</th>\n",
       "      <td>Andorra *</td>\n",
       "      <td>2.5</td>\n",
       "    </tr>\n",
       "    <tr>\n",
       "      <th>4</th>\n",
       "      <td>Angola *</td>\n",
       "      <td>71.5</td>\n",
       "    </tr>\n",
       "  </tbody>\n",
       "</table>\n",
       "</div>"
      ],
      "text/plain": [
       "        Location  2020 rate\n",
       "0  Afghanistan *       58.0\n",
       "1      Albania *        9.8\n",
       "2      Algeria *       23.7\n",
       "3      Andorra *        2.5\n",
       "4       Angola *       71.5"
      ]
     },
     "execution_count": 4,
     "metadata": {},
     "output_type": "execute_result"
    }
   ],
   "source": [
    "url = 'https://en.wikipedia.org/wiki/List_of_countries_by_infant_and_under-five_mortality_rates'\n",
    "t= pd.read_html(url)\n",
    "mortality_df =t[0]\n",
    "mortality_df.head()"
   ]
  }
 ],
 "metadata": {
  "kernelspec": {
   "display_name": "Python 3",
   "language": "python",
   "name": "python3"
  },
  "language_info": {
   "codemirror_mode": {
    "name": "ipython",
    "version": 3
   },
   "file_extension": ".py",
   "mimetype": "text/x-python",
   "name": "python",
   "nbconvert_exporter": "python",
   "pygments_lexer": "ipython3",
   "version": "3.13.7"
  }
 },
 "nbformat": 4,
 "nbformat_minor": 5
}
